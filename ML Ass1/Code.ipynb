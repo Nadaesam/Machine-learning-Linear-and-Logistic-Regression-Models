{
 "cells": [
  {
   "cell_type": "code",
   "execution_count": 1,
   "id": "63ab9d37",
   "metadata": {
    "id": "60535a21"
   },
   "outputs": [],
   "source": [
    "import pandas as pd\n",
    "import numpy as np\n",
    "import seaborn as sns\n",
    "from sklearn.preprocessing import StandardScaler\n",
    "import matplotlib.pyplot as plt\n",
    "from sklearn.utils import shuffle\n",
    "from sklearn.model_selection import train_test_split\n",
    "from sklearn.preprocessing import LabelEncoder\n",
    "from sklearn.linear_model import LinearRegression\n",
    "from sklearn.metrics import r2_score"
   ]
  },
  {
   "cell_type": "code",
   "execution_count": 2,
   "id": "175be8f2",
   "metadata": {
    "id": "6e5355ae"
   },
   "outputs": [],
   "source": [
    "data=pd.read_csv(\"D:/loan_old.csv\")\n",
    "data2=pd.read_csv(\"D:/loan_new.csv\")"
   ]
  },
  {
   "cell_type": "code",
   "execution_count": 3,
   "id": "e09a7fa1",
   "metadata": {
    "colab": {
     "base_uri": "https://localhost:8080/"
    },
    "id": "41f91363",
    "outputId": "5432d04f-0057-4f7a-cbb2-8a4330e8e8b8"
   },
   "outputs": [
    {
     "name": "stdout",
     "output_type": "stream",
     "text": [
      "Num of Missing Values each feature:\n",
      "\n",
      "Loan_ID                0\n",
      "Gender                13\n",
      "Married                3\n",
      "Dependents            15\n",
      "Education              0\n",
      "Income                 0\n",
      "Coapplicant_Income     0\n",
      "Loan_Tenor            15\n",
      "Credit_History        50\n",
      "Property_Area          0\n",
      "Max_Loan_Amount       25\n",
      "Loan_Status            0\n",
      "dtype: int64\n",
      "\n",
      "\n",
      "Data after deleting missing values:\n",
      "\n",
      "      Loan_ID  Gender Married Dependents     Education  Income  \\\n",
      "1    LP001003    Male     Yes          1      Graduate    4583   \n",
      "2    LP001005    Male     Yes          0      Graduate    3000   \n",
      "3    LP001006    Male     Yes          0  Not Graduate    2583   \n",
      "4    LP001008    Male      No          0      Graduate    6000   \n",
      "5    LP001011    Male     Yes          2      Graduate    5417   \n",
      "..        ...     ...     ...        ...           ...     ...   \n",
      "609  LP002978  Female      No          0      Graduate    2900   \n",
      "610  LP002979    Male     Yes         3+      Graduate    4106   \n",
      "611  LP002983    Male     Yes          1      Graduate    8072   \n",
      "612  LP002984    Male     Yes          2      Graduate    7583   \n",
      "613  LP002990  Female      No          0      Graduate    4583   \n",
      "\n",
      "     Coapplicant_Income  Loan_Tenor  Credit_History Property_Area  \\\n",
      "1                1508.0       144.0             1.0         Rural   \n",
      "2                   0.0       144.0             1.0         Urban   \n",
      "3                2358.0       144.0             1.0         Urban   \n",
      "4                   0.0       144.0             1.0         Urban   \n",
      "5                4196.0       144.0             1.0         Urban   \n",
      "..                  ...         ...             ...           ...   \n",
      "609                 0.0       144.0             1.0         Rural   \n",
      "610                 0.0        72.0             1.0         Rural   \n",
      "611               240.0       144.0             1.0         Urban   \n",
      "612                 0.0       144.0             1.0         Urban   \n",
      "613                 0.0       144.0             0.0     Semiurban   \n",
      "\n",
      "     Max_Loan_Amount Loan_Status  \n",
      "1             236.99           N  \n",
      "2              81.20           Y  \n",
      "3             179.03           Y  \n",
      "4             232.40           Y  \n",
      "5             414.50           Y  \n",
      "..               ...         ...  \n",
      "609            76.16           Y  \n",
      "610            33.47           Y  \n",
      "611           348.92           Y  \n",
      "612           312.18           Y  \n",
      "613           160.98           N  \n",
      "\n",
      "[513 rows x 12 columns]\n"
     ]
    }
   ],
   "source": [
    "print(\"Num of Missing Values each feature:\\n\")\n",
    "print(data.isnull().sum())\n",
    "print(\"\\n\")\n",
    "NewData = data.dropna()\n",
    "print(\"Data after deleting missing values:\\n\")\n",
    "print(NewData)\n"
   ]
  },
  {
   "cell_type": "code",
   "execution_count": 4,
   "id": "94fb1cd0",
   "metadata": {
    "colab": {
     "base_uri": "https://localhost:8080/"
    },
    "id": "237e55d5",
    "outputId": "94959a3f-8f40-42d7-b1be-7f29a5846b38"
   },
   "outputs": [
    {
     "name": "stdout",
     "output_type": "stream",
     "text": [
      "\n",
      "Data Types:\n",
      "\n",
      "Loan_ID                object\n",
      "Gender                 object\n",
      "Married                object\n",
      "Dependents             object\n",
      "Education              object\n",
      "Income                  int64\n",
      "Coapplicant_Income    float64\n",
      "Loan_Tenor            float64\n",
      "Credit_History        float64\n",
      "Property_Area          object\n",
      "Max_Loan_Amount       float64\n",
      "Loan_Status            object\n",
      "dtype: object\n"
     ]
    }
   ],
   "source": [
    "print(\"\\nData Types:\\n\")\n",
    "print(NewData.dtypes)"
   ]
  },
  {
   "cell_type": "code",
   "execution_count": 5,
   "id": "53e5a175",
   "metadata": {
    "colab": {
     "base_uri": "https://localhost:8080/",
     "height": 1000
    },
    "id": "1a772b8c",
    "outputId": "bfffdcd3-e65c-4818-8660-b5b20e73d7ca",
    "scrolled": true
   },
   "outputs": [
    {
     "name": "stdout",
     "output_type": "stream",
     "text": [
      "Numerical Features Scale:\n",
      "\n",
      "Income                4469.976643\n",
      "Coapplicant_Income    2102.196620\n",
      "Loan_Tenor              23.139902\n",
      "Credit_History           0.351685\n",
      "Max_Loan_Amount        157.632279\n",
      "dtype: float64\n",
      "\n",
      "\n",
      "Numerical Features description:\n",
      "\n",
      "             Income  Coapplicant_Income  Loan_Tenor  Credit_History  \\\n",
      "count    513.000000          513.000000  513.000000      513.000000   \n",
      "mean    5030.730994         1486.627524  137.660819        0.855750   \n",
      "std     4469.976643         2102.196620   23.139902        0.351685   \n",
      "min      150.000000            0.000000   36.000000        0.000000   \n",
      "25%     2889.000000            0.000000  144.000000        1.000000   \n",
      "50%     3800.000000         1126.000000  144.000000        1.000000   \n",
      "75%     5703.000000         2250.000000  144.000000        1.000000   \n",
      "max    63337.000000        20000.000000  192.000000        1.000000   \n",
      "\n",
      "       Max_Loan_Amount  \n",
      "count       513.000000  \n",
      "mean        227.414405  \n",
      "std         157.632279  \n",
      "min          12.830000  \n",
      "25%         123.180000  \n",
      "50%         186.690000  \n",
      "75%         276.500000  \n",
      "max         911.990000  \n"
     ]
    },
    {
     "data": {
      "image/png": "[encoded data removed]",
      "text/plain": [
       "<Figure size 900x900 with 30 Axes>"
      ]
     },
     "metadata": {
      "needs_background": "light"
     },
     "output_type": "display_data"
    }
   ],
   "source": [
    "num_features = NewData.select_dtypes(include=[np.number])\n",
    "num_features_scale = num_features.std()\n",
    "scaled_features_description = NewData[num_features.columns].describe()\n",
    "print(\"Numerical Features Scale:\\n\")\n",
    "print(num_features_scale)\n",
    "print(\"\\n\")\n",
    "print(\"Numerical Features description:\\n\")\n",
    "print(scaled_features_description)\n",
    "sns.pairplot(NewData[num_features.columns])\n",
    "plt.show()"
   ]
  },
  {
   "cell_type": "code",
   "execution_count": 6,
   "id": "48284d43",
   "metadata": {
    "colab": {
     "base_uri": "https://localhost:8080/"
    },
    "id": "bc352bb0",
    "outputId": "44f4647a-0ad5-4d31-e8d7-7f4314597b14"
   },
   "outputs": [
    {
     "name": "stdout",
     "output_type": "stream",
     "text": [
      "\n",
      " Features:\n",
      "\n",
      "  Gender Married Dependents     Education  Income  Coapplicant_Income  \\\n",
      "1   Male     Yes          1      Graduate    4583              1508.0   \n",
      "2   Male     Yes          0      Graduate    3000                 0.0   \n",
      "3   Male     Yes          0  Not Graduate    2583              2358.0   \n",
      "4   Male      No          0      Graduate    6000                 0.0   \n",
      "5   Male     Yes          2      Graduate    5417              4196.0   \n",
      "\n",
      "   Loan_Tenor  Credit_History Property_Area  \n",
      "1       144.0             1.0         Rural  \n",
      "2       144.0             1.0         Urban  \n",
      "3       144.0             1.0         Urban  \n",
      "4       144.0             1.0         Urban  \n",
      "5       144.0             1.0         Urban   \n",
      "\n",
      "\n",
      "Target Amount:\n",
      "\n",
      "1    236.99\n",
      "2     81.20\n",
      "3    179.03\n",
      "4    232.40\n",
      "5    414.50\n",
      "Name: Max_Loan_Amount, dtype: float64 \n",
      "\n",
      "\n",
      " Target Status:\n",
      "\n",
      "1    N\n",
      "2    Y\n",
      "3    Y\n",
      "4    Y\n",
      "5    Y\n",
      "Name: Loan_Status, dtype: object\n"
     ]
    }
   ],
   "source": [
    "X= NewData.drop(['Max_Loan_Amount', 'Loan_Status','Loan_ID'], axis=1)\n",
    "y_amount = NewData['Max_Loan_Amount']\n",
    "y_status = NewData['Loan_Status']\n",
    "#Linear\n",
    "print(\"\\n Features:\\n\")\n",
    "print(X.head(),\"\\n\")\n",
    "print(\"\\nTarget Amount:\\n\")\n",
    "print(y_amount.head(),\"\\n\")\n",
    "#logestic\n",
    "print(\"\\n Target Status:\\n\")\n",
    "print(y_status.head())"
   ]
  },
  {
   "cell_type": "code",
   "execution_count": 7,
   "id": "8a3ce168",
   "metadata": {
    "colab": {
     "base_uri": "https://localhost:8080/"
    },
    "id": "a66aedfe",
    "outputId": "42194c88-b2c5-45da-ae0c-0bf17b39f90a"
   },
   "outputs": [
    {
     "name": "stdout",
     "output_type": "stream",
     "text": [
      "X Train:\n",
      "    Gender Married Dependents     Education  Income  Coapplicant_Income  \\\n",
      "578   Male     Yes          1      Graduate    1782              2232.0   \n",
      "75    Male      No          0      Graduate    3750                 0.0   \n",
      "546   Male      No          0  Not Graduate    3358                 0.0   \n",
      "84    Male     Yes          1      Graduate    3988                 0.0   \n",
      "3     Male     Yes          0  Not Graduate    2583              2358.0   \n",
      "..     ...     ...        ...           ...     ...                 ...   \n",
      "132   Male      No          0      Graduate    2718                 0.0   \n",
      "325   Male     Yes          1      Graduate    8666              4983.0   \n",
      "417   Male     Yes          2      Graduate    1600             20000.0   \n",
      "523   Male     Yes          2      Graduate    7948              7166.0   \n",
      "124   Male     Yes          0  Not Graduate    4300              2014.0   \n",
      "\n",
      "     Loan_Tenor  Credit_History Property_Area  \n",
      "578       144.0             1.0         Rural  \n",
      "75        192.0             1.0         Urban  \n",
      "546        36.0             1.0     Semiurban  \n",
      "84         96.0             1.0         Urban  \n",
      "3         144.0             1.0         Urban  \n",
      "..          ...             ...           ...  \n",
      "132       144.0             1.0     Semiurban  \n",
      "325       144.0             0.0         Rural  \n",
      "417       144.0             1.0         Urban  \n",
      "523       144.0             1.0         Rural  \n",
      "124       144.0             1.0         Rural  \n",
      "\n",
      "[461 rows x 9 columns] \n",
      "\n",
      "X Test:\n",
      "     Gender Married Dependents     Education  Income  Coapplicant_Income  \\\n",
      "366    Male      No          0      Graduate    2500                 0.0   \n",
      "595    Male      No          0  Not Graduate    3833                 0.0   \n",
      "527    Male     Yes          1  Not Graduate    5285              1430.0   \n",
      "184  Female     Yes          0      Graduate    3625                 0.0   \n",
      "598    Male     Yes          0      Graduate    9963                 0.0   \n",
      "158    Male      No          0      Graduate    2980              2083.0   \n",
      "248    Male     Yes          1      Graduate    2882              1843.0   \n",
      "608    Male     Yes          0      Graduate    3232              1950.0   \n",
      "390    Male      No         3+      Graduate    9167                 0.0   \n",
      "295    Male     Yes         3+      Graduate    4416              1250.0   \n",
      "433    Male     Yes          0      Graduate    2425              2340.0   \n",
      "422    Male     Yes          0      Graduate    1820              1719.0   \n",
      "349    Male     Yes          0      Graduate    2625              6250.0   \n",
      "100    Male     Yes          2  Not Graduate    4288              3263.0   \n",
      "11     Male     Yes          2      Graduate    2500              1840.0   \n",
      "389    Male     Yes          0      Graduate    5488                 0.0   \n",
      "93     Male      No          0      Graduate    4133                 0.0   \n",
      "38     Male      No          0      Graduate    4166              7210.0   \n",
      "222    Male      No          0      Graduate    2971              2791.0   \n",
      "239    Male     Yes          1      Graduate    3315                 0.0   \n",
      "268  Female      No          0      Graduate    3418                 0.0   \n",
      "253    Male     Yes          1  Not Graduate    2661              7101.0   \n",
      "339  Female      No          0      Graduate    4160                 0.0   \n",
      "252    Male      No          0  Not Graduate    2583              2167.0   \n",
      "150    Male      No          0      Graduate    6277                 0.0   \n",
      "298  Female      No          0      Graduate    5000              2541.0   \n",
      "91     Male     Yes          2      Graduate    6250              5654.0   \n",
      "457    Male     Yes          0      Graduate    3708              2569.0   \n",
      "410  Female      No          1  Not Graduate    3867                 0.0   \n",
      "388    Male     Yes          0      Graduate    2333              2417.0   \n",
      "291    Male     Yes          2      Graduate    4400                 0.0   \n",
      "398    Male      No          0  Not Graduate    3902              1666.0   \n",
      "168    Male      No          0      Graduate    2237                 0.0   \n",
      "10     Male     Yes          2      Graduate    3200               700.0   \n",
      "87     Male     Yes          0      Graduate    2500              2118.0   \n",
      "479    Male     Yes          2      Graduate    2947              1603.0   \n",
      "580    Male     Yes          2      Graduate    6540                 0.0   \n",
      "271    Male     Yes          0      Graduate   11146                 0.0   \n",
      "88     Male      No          0      Graduate    8566                 0.0   \n",
      "214    Male     Yes          0      Graduate    3173              3021.0   \n",
      "510    Male      No          0  Not Graduate    3598              1287.0   \n",
      "81     Male     Yes          1      Graduate    2395                 0.0   \n",
      "189    Male     Yes          0      Graduate    9328                 0.0   \n",
      "66     Male      No          0  Not Graduate    3200              2254.0   \n",
      "484    Male     Yes          2      Graduate    8333                 0.0   \n",
      "359    Male     Yes         3+      Graduate    5167              3167.0   \n",
      "92     Male     Yes          2  Not Graduate    3273              1820.0   \n",
      "603    Male      No          0      Graduate    3676              4301.0   \n",
      "382  Female      No          0      Graduate    6000                 0.0   \n",
      "566    Male      No          0      Graduate    3333                 0.0   \n",
      "108    Male     Yes          2      Graduate    3800              3600.0   \n",
      "285    Male      No          0      Graduate    3158              3053.0   \n",
      "\n",
      "     Loan_Tenor  Credit_History Property_Area  \n",
      "366       192.0             1.0     Semiurban  \n",
      "595       144.0             1.0         Rural  \n",
      "527       144.0             0.0     Semiurban  \n",
      "184       144.0             1.0     Semiurban  \n",
      "598       144.0             1.0         Rural  \n",
      "158       144.0             1.0         Rural  \n",
      "248       192.0             1.0     Semiurban  \n",
      "608       144.0             1.0         Rural  \n",
      "390       144.0             1.0         Rural  \n",
      "295       144.0             1.0         Urban  \n",
      "433       144.0             1.0     Semiurban  \n",
      "422       144.0             1.0         Urban  \n",
      "349       144.0             1.0         Rural  \n",
      "100        72.0             1.0         Urban  \n",
      "11        144.0             1.0         Urban  \n",
      "389       144.0             1.0         Rural  \n",
      "93        144.0             1.0     Semiurban  \n",
      "38        144.0             1.0         Urban  \n",
      "222       144.0             1.0     Semiurban  \n",
      "239       144.0             1.0     Semiurban  \n",
      "268       144.0             1.0         Rural  \n",
      "253        72.0             1.0     Semiurban  \n",
      "339       144.0             1.0     Semiurban  \n",
      "252       144.0             1.0         Rural  \n",
      "150       144.0             0.0         Rural  \n",
      "298       192.0             1.0         Rural  \n",
      "91         72.0             1.0     Semiurban  \n",
      "457       144.0             1.0         Urban  \n",
      "410       144.0             1.0     Semiurban  \n",
      "388       144.0             1.0         Urban  \n",
      "291       144.0             0.0     Semiurban  \n",
      "398       144.0             1.0         Rural  \n",
      "168       192.0             0.0     Semiurban  \n",
      "10        144.0             1.0         Urban  \n",
      "87        144.0             1.0     Semiurban  \n",
      "479       144.0             1.0         Urban  \n",
      "580       144.0             1.0     Semiurban  \n",
      "271       144.0             1.0         Urban  \n",
      "88        144.0             1.0         Urban  \n",
      "214       144.0             1.0         Urban  \n",
      "510       144.0             1.0         Rural  \n",
      "81        144.0             1.0     Semiurban  \n",
      "189        72.0             1.0         Rural  \n",
      "66         72.0             0.0         Urban  \n",
      "484       144.0             1.0     Semiurban  \n",
      "359       144.0             1.0     Semiurban  \n",
      "92        144.0             1.0         Urban  \n",
      "603       144.0             1.0         Rural  \n",
      "382       144.0             1.0         Urban  \n",
      "566       144.0             1.0         Urban  \n",
      "108       144.0             0.0         Urban  \n",
      "285       144.0             1.0         Rural   \n",
      "\n",
      "y_amount_Train:\n",
      "578    132.31\n",
      "75     182.00\n",
      "546     42.31\n",
      "84      64.00\n",
      "3      179.03\n",
      "        ...  \n",
      "132     66.99\n",
      "325    617.91\n",
      "417    588.64\n",
      "523    691.75\n",
      "124    248.23\n",
      "Name: Max_Loan_Amount, Length: 461, dtype: float64 \n",
      "\n",
      "y_amount_Test:\n",
      "366     98.00\n",
      "595    123.18\n",
      "527    268.44\n",
      "184    112.70\n",
      "598    432.14\n",
      "158    185.18\n",
      "248    247.52\n",
      "608    191.17\n",
      "390    392.02\n",
      "295    215.57\n",
      "433    170.16\n",
      "422    108.37\n",
      "349    377.30\n",
      "100    120.29\n",
      "11     148.74\n",
      "389    206.60\n",
      "93     138.30\n",
      "38     373.35\n",
      "222    220.40\n",
      "239     97.08\n",
      "268    102.27\n",
      "253    176.00\n",
      "339    139.66\n",
      "252    169.40\n",
      "150    246.36\n",
      "298    436.76\n",
      "91     229.98\n",
      "457    246.36\n",
      "410    124.90\n",
      "388    169.40\n",
      "291    151.76\n",
      "398    210.63\n",
      "168     80.33\n",
      "10     126.56\n",
      "87     162.75\n",
      "479    159.32\n",
      "580    259.62\n",
      "271    361.76\n",
      "88     361.73\n",
      "214    242.18\n",
      "510    176.20\n",
      "81      50.71\n",
      "189    165.07\n",
      "66      67.44\n",
      "484    349.98\n",
      "359    350.03\n",
      "92     186.69\n",
      "603    332.04\n",
      "382    232.40\n",
      "566     97.98\n",
      "108    302.96\n",
      "285    243.03\n",
      "Name: Max_Loan_Amount, dtype: float64 \n",
      "\n",
      "y_status_Train:\n",
      "578    Y\n",
      "75     N\n",
      "546    N\n",
      "84     Y\n",
      "3      Y\n",
      "      ..\n",
      "132    Y\n",
      "325    N\n",
      "417    N\n",
      "523    Y\n",
      "124    Y\n",
      "Name: Loan_Status, Length: 461, dtype: object \n",
      "\n",
      "y_status_Test:\n",
      "366    N\n",
      "595    Y\n",
      "527    Y\n",
      "184    Y\n",
      "598    Y\n",
      "158    Y\n",
      "248    Y\n",
      "608    Y\n",
      "390    Y\n",
      "295    Y\n",
      "433    Y\n",
      "422    Y\n",
      "349    Y\n",
      "100    Y\n",
      "11     Y\n",
      "389    Y\n",
      "93     Y\n",
      "38     Y\n",
      "222    Y\n",
      "239    Y\n",
      "268    N\n",
      "253    Y\n",
      "339    Y\n",
      "252    Y\n",
      "150    N\n",
      "298    N\n",
      "91     Y\n",
      "457    N\n",
      "410    N\n",
      "388    Y\n",
      "291    N\n",
      "398    Y\n",
      "168    N\n",
      "10     Y\n",
      "87     Y\n",
      "479    N\n",
      "580    Y\n",
      "271    Y\n",
      "88     Y\n",
      "214    Y\n",
      "510    N\n",
      "81     Y\n",
      "189    Y\n",
      "66     N\n",
      "484    Y\n",
      "359    Y\n",
      "92     Y\n",
      "603    Y\n",
      "382    Y\n",
      "566    Y\n",
      "108    N\n",
      "285    Y\n",
      "Name: Loan_Status, dtype: object \n",
      "\n"
     ]
    }
   ],
   "source": [
    "X_train,X_test, y_amount_train, y_amount_test, y_status_train, y_status_test = train_test_split(X, y_amount, y_status, test_size=0.1, random_state=42,shuffle=True)\n",
    "print(\"X Train:\" )\n",
    "print(X_train,\"\\n\")\n",
    "print(\"X Test:\")\n",
    "print(X_test,\"\\n\")\n",
    "print(\"y_amount_Train:\")\n",
    "print(y_amount_train,\"\\n\")\n",
    "print(\"y_amount_Test:\")\n",
    "print(y_amount_test,\"\\n\")\n",
    "print(\"y_status_Train:\")\n",
    "print(y_status_train,\"\\n\")\n",
    "print(\"y_status_Test:\")\n",
    "print(y_status_test,\"\\n\")\n"
   ]
  },
  {
   "cell_type": "code",
   "execution_count": 11,
   "id": "50011c5a",
   "metadata": {
    "colab": {
     "base_uri": "https://localhost:8080/"
    },
    "id": "2ff8bdfa",
    "outputId": "f0d71ce7-3632-41d2-dad0-37382b696f36"
   },
   "outputs": [
    {
     "name": "stdout",
     "output_type": "stream",
     "text": [
      "Encoded Standerlized Training Features (X_train):\n",
      "      Gender  Married  Dependents  Education    Income  Coapplicant_Income  \\\n",
      "578       1        1           1          0 -0.715604            0.358980   \n",
      "75        1        0           0          0 -0.292244           -0.692407   \n",
      "546       1        0           0          1 -0.376572           -0.692407   \n",
      "84        1        1           1          0 -0.241045           -0.692407   \n",
      "3         1        1           0          1 -0.543291            0.418333   \n",
      "\n",
      "     Loan_Tenor  Credit_History  Property_Area  \n",
      "578    0.293809               1              0  \n",
      "75     2.401913               1              2  \n",
      "546   -4.449427               1              1  \n",
      "84    -1.814296               1              2  \n",
      "3      0.293809               1              2  \n",
      "\n",
      "Encoded Standerlized Testing Features (X_test):\n",
      "      Gender  Married  Dependents  Education    Income  Coapplicant_Income  \\\n",
      "366       1        0           0          0 -0.855404           -0.869605   \n",
      "595       1        0           0          1 -0.236109           -0.869605   \n",
      "527       1        1           1          1  0.438472           -0.108926   \n",
      "184       0        1           0          0 -0.332743           -0.869605   \n",
      "598       1        1           0          0  2.611813           -0.869605   \n",
      "\n",
      "     Loan_Tenor  Credit_History  Property_Area  \n",
      "366    1.986264               1              1  \n",
      "595    0.125260               1              0  \n",
      "527    0.125260               0              1  \n",
      "184    0.125260               1              1  \n",
      "598    0.125260               1              0  \n"
     ]
    }
   ],
   "source": [
    "label_encoder = LabelEncoder()\n",
    "for column in ['Gender','Married','Education','Dependents','Property_Area','Credit_History' ]:\n",
    "    X_train[column] = label_encoder.fit_transform(X_train[column])\n",
    "    X_test[column] = label_encoder.transform(X_test[column])\n",
    "\n",
    "scaler = StandardScaler()\n",
    "X_train[['Income','Coapplicant_Income','Loan_Tenor']]=scaler.fit_transform(X_train[['Income','Coapplicant_Income','Loan_Tenor']])\n",
    "X_test[['Income','Coapplicant_Income','Loan_Tenor']]=scaler.fit_transform(X_test[['Income','Coapplicant_Income','Loan_Tenor']])\n",
    "\n",
    "print(\"Encoded Standerlized Training Features (X_train):\\n\", X_train.head())\n",
    "print(\"\\nEncoded Standerlized Testing Features (X_test):\\n\", X_test.head())"
   ]
  },
  {
   "cell_type": "code",
   "execution_count": 12,
   "id": "b50608b9",
   "metadata": {
    "colab": {
     "base_uri": "https://localhost:8080/"
    },
    "id": "17092422",
    "outputId": "282605b6-7480-46a0-a684-e75fe856f1f2",
    "scrolled": true
   },
   "outputs": [
    {
     "name": "stdout",
     "output_type": "stream",
     "text": [
      "Encoded numrical Target (Y_Status_Train):\n",
      " [1 0 0 1 1 1 0 1 1 1 0 1 0 1 1 1 1 0 1 0 1 0 0 1 1 1 0 1 1 1 1 1 1 0 0 1 1\n",
      " 1 1 1 1 0 0 1 0 1 1 1 1 0 1 1 0 0 1 1 0 1 1 1 1 0 1 1 0 1 0 1 1 0 0 1 1 0\n",
      " 1 1 1 1 1 1 0 0 0 0 1 1 1 1 0 0 1 0 1 1 1 1 1 1 0 1 0 1 1 1 1 0 0 1 0 1 1\n",
      " 1 1 1 0 0 0 1 1 0 1 0 1 1 1 1 1 0 1 0 1 1 0 0 0 1 0 1 1 1 1 1 1 1 1 1 0 1\n",
      " 1 0 1 1 1 1 1 1 1 1 0 0 0 1 1 1 1 1 1 0 1 1 1 1 1 1 1 1 1 1 1 1 1 1 1 1 1\n",
      " 0 0 1 1 1 0 1 0 1 1 1 1 0 0 0 1 1 1 0 0 0 1 0 1 1 1 1 1 1 0 1 1 1 0 0 1 0\n",
      " 1 0 1 1 1 0 1 1 1 0 1 1 1 1 1 1 1 1 0 1 0 0 1 1 1 0 1 0 0 1 0 1 1 1 0 1 1\n",
      " 1 1 0 0 1 1 1 1 1 1 1 0 1 1 1 1 0 1 0 1 0 0 0 1 1 0 1 1 0 1 0 1 1 0 1 1 1\n",
      " 0 1 1 0 1 0 1 1 0 0 1 1 1 0 1 1 1 1 0 1 1 1 1 1 1 1 0 1 1 1 0 1 1 1 1 1 1\n",
      " 0 1 0 1 0 1 1 0 1 0 0 1 1 1 1 1 1 0 0 1 1 1 0 1 0 0 1 1 0 1 1 0 1 1 0 0 0\n",
      " 1 1 1 0 0 1 0 1 1 1 1 1 1 1 1 1 0 1 0 1 1 1 1 0 0 1 1 1 1 1 1 0 1 1 1 0 1\n",
      " 0 0 1 0 1 1 1 0 1 1 1 0 1 1 0 0 1 1 1 0 1 0 0 1 1 0 1 1 0 1 0 1 1 1 1 0 0\n",
      " 1 0 1 1 1 0 1 1 0 1 1 1 1 0 0 1 1] \n",
      "\n",
      "Encoded Standerlized Testing Features (Y_Status_test):\n",
      " [0 1 1 1 1 1 1 1 1 1 1 1 1 1 1 1 1 1 1 1 0 1 1 1 0 0 1 0 0 1 0 1 0 1 1 0 1\n",
      " 1 1 1 0 1 1 0 1 1 1 1 1 1 0 1]\n"
     ]
    }
   ],
   "source": [
    "encoder = LabelEncoder()\n",
    "y_status_train = encoder.fit_transform(y_status_train)\n",
    "y_status_test = encoder.fit_transform(y_status_test)\n",
    "print(\"Encoded numrical Target (Y_Status_Train):\\n\", y_status_train,\"\\n\")\n",
    "print(\"Encoded Standerlized Testing Features (Y_Status_test):\\n\", y_status_test)"
   ]
  },
  {
   "cell_type": "code",
   "execution_count": 13,
   "id": "4067628a",
   "metadata": {
    "colab": {
     "base_uri": "https://localhost:8080/"
    },
    "id": "267ad916",
    "outputId": "3f39e577-8a65-41fa-d12e-6485a06e2485"
   },
   "outputs": [
    {
     "name": "stdout",
     "output_type": "stream",
     "text": [
      "R2 Score on Training Set: 0.7267429169396329\n"
     ]
    }
   ],
   "source": [
    "linear_reg_model = LinearRegression()\n",
    "linear_reg_model.fit(X_train, y_amount_train)\n",
    "y_amount_train_pred = linear_reg_model.predict(X_train)\n",
    "# Evaluate the model using R2 score on the training set\n",
    "r2_train = r2_score(y_amount_train, y_amount_train_pred)\n",
    "print(f\"R2 Score on Training Set: {r2_train}\")"
   ]
  },
  {
   "cell_type": "code",
   "execution_count": 18,
   "id": "417caa62",
   "metadata": {
    "id": "100c3334-63d6-4bc5-9f21-cf9c4d82f132"
   },
   "outputs": [],
   "source": [
    "# fit logistic regression \n",
    "import numpy as np\n",
    "# Define the sigmoid function\n",
    "def sigmoid(z):\n",
    "    return 1 / (1 + np.exp(-z))\n",
    "\n",
    "# Initialize theta array and alpha value and setting max iterations\n",
    "theta = np.zeros(X_train.shape[1])\n",
    "alpha = 0.01\n",
    "max_iterations = 1000\n",
    "# Perform gradient descent\n",
    "m = len(y_status_train)\n",
    "for iteration in range(max_iterations):\n",
    "    z = np.dot(X_train, theta)\n",
    "    h = sigmoid(z)\n",
    "\n",
    "    gradient = np.dot(X_train.T, (h - y_status_train)) / m\n",
    "    theta -= alpha * gradient"
   ]
  },
  {
   "cell_type": "code",
   "execution_count": 19,
   "id": "dd8acdf9",
   "metadata": {
    "colab": {
     "base_uri": "https://localhost:8080/"
    },
    "id": "52175acc-feaa-483b-8681-53d177e558d7",
    "outputId": "8417a63e-0740-434b-bb50-8edf34885432"
   },
   "outputs": [
    {
     "name": "stdout",
     "output_type": "stream",
     "text": [
      "Accuracy: 0.7884615384615384\n",
      "Accuracy in percentage : 78.84615384615384\n"
     ]
    }
   ],
   "source": [
    "# Make predictions on the test set\n",
    "y_status_pred = sigmoid(np.dot(X_test, theta))\n",
    "y_pred_class = np.where(y_status_pred >= 0.5, 1, 0)\n",
    "# Calculate accuracy for logistic model\n",
    "accuracy = np.mean(y_pred_class == y_status_test)\n",
    "print(\"Accuracy:\", accuracy) \n",
    "print(\"Accuracy in percentage :\", accuracy*100)"
   ]
  },
  {
   "cell_type": "code",
   "execution_count": 20,
   "id": "8ad85aa9",
   "metadata": {
    "colab": {
     "base_uri": "https://localhost:8080/"
    },
    "id": "c8ea3bc8-3052-4b0a-a15a-5a12ca930446",
    "outputId": "db0ec2ed-44c0-48a6-c01d-3ddd6f7d3314"
   },
   "outputs": [
    {
     "data": {
      "text/plain": [
       "78.84615384615384"
      ]
     },
     "execution_count": 20,
     "metadata": {},
     "output_type": "execute_result"
    }
   ],
   "source": [
    "#  accuracy function\n",
    "def accuracy(X,Y):\n",
    " return (np.sum(X==Y)/Y.size)*100\n",
    "# test accuracy function  on data \n",
    "accuracy(y_pred_class,y_status_test)"
   ]
  },
  {
   "cell_type": "code",
   "execution_count": 21,
   "id": "42b80fac",
   "metadata": {},
   "outputs": [
    {
     "name": "stdout",
     "output_type": "stream",
     "text": [
      "Num of Missing Values each feature:\n",
      "\n",
      "Loan_ID                0\n",
      "Gender                11\n",
      "Married                0\n",
      "Dependents            10\n",
      "Education              0\n",
      "Income                 0\n",
      "Coapplicant_Income     0\n",
      "Loan_Tenor             7\n",
      "Credit_History        29\n",
      "Property_Area          0\n",
      "dtype: int64\n",
      "\n",
      "\n",
      "Data after deleting missing values:\n",
      "\n",
      "      Loan_ID Gender Married Dependents     Education  Income  \\\n",
      "0    LP001015   Male     Yes          0      Graduate    5720   \n",
      "1    LP001022   Male     Yes          1      Graduate    3076   \n",
      "2    LP001031   Male     Yes          2      Graduate    5000   \n",
      "4    LP001051   Male      No          0  Not Graduate    3276   \n",
      "5    LP001054   Male     Yes          0  Not Graduate    2165   \n",
      "..        ...    ...     ...        ...           ...     ...   \n",
      "361  LP002969   Male     Yes          1      Graduate    2269   \n",
      "362  LP002971   Male     Yes         3+  Not Graduate    4009   \n",
      "363  LP002975   Male     Yes          0      Graduate    4158   \n",
      "365  LP002986   Male     Yes          0      Graduate    5000   \n",
      "366  LP002989   Male      No          0      Graduate    9200   \n",
      "\n",
      "     Coapplicant_Income  Loan_Tenor  Credit_History Property_Area  \n",
      "0                     0       144.0             1.0         Urban  \n",
      "1                  1500       144.0             1.0         Urban  \n",
      "2                  1800       144.0             1.0         Urban  \n",
      "4                     0       144.0             1.0         Urban  \n",
      "5                  3422       144.0             1.0         Urban  \n",
      "..                  ...         ...             ...           ...  \n",
      "361                2167       144.0             1.0     Semiurban  \n",
      "362                1777       144.0             1.0         Urban  \n",
      "363                 709       144.0             1.0         Urban  \n",
      "365                2393       144.0             1.0         Rural  \n",
      "366                   0        72.0             1.0         Rural  \n",
      "\n",
      "[314 rows x 10 columns]\n"
     ]
    }
   ],
   "source": [
    "print(\"Num of Missing Values each feature:\\n\")\n",
    "print(data2.isnull().sum())\n",
    "print(\"\\n\")\n",
    "newdata2 = data2.dropna()\n",
    "print(\"Data after deleting missing values:\\n\")\n",
    "print(newdata2)"
   ]
  },
  {
   "cell_type": "code",
   "execution_count": 22,
   "id": "d7dec473",
   "metadata": {},
   "outputs": [
    {
     "name": "stdout",
     "output_type": "stream",
     "text": [
      "\n",
      "Data Types:\n",
      "\n",
      "Loan_ID                object\n",
      "Gender                 object\n",
      "Married                object\n",
      "Dependents             object\n",
      "Education              object\n",
      "Income                  int64\n",
      "Coapplicant_Income      int64\n",
      "Loan_Tenor            float64\n",
      "Credit_History        float64\n",
      "Property_Area          object\n",
      "dtype: object\n",
      "Numerical Features Scale:\n",
      "\n",
      "Income                4744.266171\n",
      "Coapplicant_Income    2336.327755\n",
      "Loan_Tenor              23.023344\n",
      "Credit_History           0.380710\n",
      "dtype: float64\n",
      "\n",
      "\n",
      "Numerical Features description:\n",
      "\n",
      "             Income  Coapplicant_Income  Loan_Tenor  Credit_History\n",
      "count    314.000000          314.000000  314.000000      314.000000\n",
      "mean    4732.009554         1531.076433  138.216561        0.824841\n",
      "std     4744.266171         2336.327755   23.023344        0.380710\n",
      "min        0.000000            0.000000   12.000000        0.000000\n",
      "25%     2860.500000            0.000000  144.000000        1.000000\n",
      "50%     3834.000000          853.500000  144.000000        1.000000\n",
      "75%     5125.750000         2412.750000  144.000000        1.000000\n",
      "max    72529.000000        24000.000000  192.000000        1.000000\n"
     ]
    },
    {
     "data": {
      "image/png": "[encoded data removed]",
      "text/plain": [
       "<Figure size 720x720 with 20 Axes>"
      ]
     },
     "metadata": {
      "needs_background": "light"
     },
     "output_type": "display_data"
    }
   ],
   "source": [
    "print(\"\\nData Types:\\n\")\n",
    "print(newdata2.dtypes)\n",
    "num_features = newdata2.select_dtypes(include=[np.number])\n",
    "num_features_scale = num_features.std()\n",
    "scaled_features_description = newdata2[num_features.columns].describe()\n",
    "print(\"Numerical Features Scale:\\n\")\n",
    "print(num_features_scale)\n",
    "print(\"\\n\")\n",
    "print(\"Numerical Features description:\\n\")\n",
    "print(scaled_features_description)\n",
    "sns.pairplot(newdata2[num_features.columns])\n",
    "plt.show()"
   ]
  },
  {
   "cell_type": "code",
   "execution_count": 23,
   "id": "eed27ebc",
   "metadata": {},
   "outputs": [
    {
     "name": "stdout",
     "output_type": "stream",
     "text": [
      "Preprocessed Data:\n",
      "   Gender  Married  Dependents  Education    Income  Coapplicant_Income  \\\n",
      "0       1        1           0          0  0.208582           -0.656381   \n",
      "1       1        1           1          0 -0.349612           -0.013323   \n",
      "2       1        1           2          0  0.056577            0.115289   \n",
      "4       1        0           0          1 -0.307389           -0.656381   \n",
      "5       1        1           0          1 -0.541940            0.810649   \n",
      "\n",
      "   Loan_Tenor  Credit_History  Property_Area  \n",
      "0      0.2516               1              2  \n",
      "1      0.2516               1              2  \n",
      "2      0.2516               1              2  \n",
      "4      0.2516               1              2  \n",
      "5      0.2516               1              2  \n"
     ]
    }
   ],
   "source": [
    "#ii\n",
    "X = newdata2.drop('Loan_ID', axis=1) \n",
    "label_encoder = LabelEncoder()\n",
    "for column in ['Gender','Married','Education','Dependents','Property_Area','Credit_History' ]:\n",
    "    X[column] = label_encoder.fit_transform(X[column])\n",
    "  \n",
    "#vi\n",
    "scaler = StandardScaler()\n",
    "X[['Income','Coapplicant_Income','Loan_Tenor']]=scaler.fit_transform(X[['Income','Coapplicant_Income','Loan_Tenor']])\n",
    "\n",
    "#Display the preprocessed data\n",
    "print(\"Preprocessed Data:\")\n",
    "print(X.head())"
   ]
  },
  {
   "cell_type": "code",
   "execution_count": 24,
   "id": "63e8c49e",
   "metadata": {},
   "outputs": [
    {
     "name": "stdout",
     "output_type": "stream",
     "text": [
      "Max Amount:\n",
      "[ 2.20631723e+02  1.97669566e+02  2.61658134e+02  1.37375794e+02\n",
      "  2.07838333e+02  1.11796459e+02  1.75167881e+02  3.32052081e+02\n",
      "  1.90686462e+02  1.32480355e+02  1.83181815e+02  4.01421874e+02\n",
      "  1.87238919e+02  2.20710166e+02  2.82175591e+02  2.01289455e+02\n",
      "  5.37211529e+02  4.65588207e+01  1.54155742e+02 -5.21774189e+01\n",
      "  1.39289566e+02  3.35997217e+02  7.54175995e+02  3.73755429e+02\n",
      "  5.06113548e+01  1.13870570e+02  2.67028435e+02  2.08853854e+02\n",
      "  2.19475084e+02  1.85343290e+02  1.50354867e+02  2.26121710e+02\n",
      "  2.08195664e+02  2.20508559e+02  2.18055942e+02  2.41350551e+02\n",
      "  1.51557544e+02  1.65969186e+02  3.20304323e+02  1.52139705e+02\n",
      "  1.75442468e+02  2.94983145e+02  1.86136537e+02  2.62112400e+02\n",
      "  5.49069289e+01  1.93862661e+02  1.31132752e+02  1.73420517e+02\n",
      "  1.22017730e+02  2.45403570e+02  5.58490899e+01  1.74999756e+02\n",
      "  2.63181810e+02  2.04418933e+02  1.62616381e+02  1.86396622e+02\n",
      "  2.56396735e+02  1.79014199e+02  1.61274459e+02  2.80763831e+02\n",
      "  2.88124810e+02  1.92893231e+02  4.45603917e+01  2.48948438e+02\n",
      "  2.89431414e+02  2.58085262e+02  2.20577687e+02  2.51622861e+02\n",
      "  2.87404121e+02  2.68615546e+02  2.07765732e+02  2.00230310e+03\n",
      "  2.89076312e+02  3.10120828e+02  2.72863769e+01  2.83822452e+02\n",
      "  2.17963510e+02  1.55926051e+02  2.11085745e+02  2.06249339e+02\n",
      "  4.58038668e+02  2.68662227e+02  2.44279632e+02  2.62629901e+02\n",
      "  2.46315243e+02  2.80805841e+02  2.62409262e+02  3.40235403e+02\n",
      "  2.01239532e+02  2.26104711e+02  1.77091921e+02 -9.37456387e+00\n",
      "  1.93688070e+02  2.19749867e+02  1.96985670e+02  2.11654842e+02\n",
      "  1.89250018e+02  1.45550708e+02  2.49404576e+02  3.31218433e+02\n",
      "  9.80576405e+01  1.69336719e+02  2.06333994e+02  1.48849917e+02\n",
      "  2.55800344e+02  2.15804996e+02  3.23131477e+02  3.78109555e+02\n",
      "  1.98291444e+02  2.30364624e+02  2.76922326e+02 -1.32670931e+01\n",
      "  1.93373326e+02  1.73163528e+02  2.22490271e+02  1.55516731e+02\n",
      "  3.80531913e+01  1.81944524e+02  2.14811593e+02  2.27130089e+02\n",
      "  2.00722559e+02  1.59696597e+02  2.54498553e+02  8.92108783e+01\n",
      "  3.43992869e+02  1.46013176e+02  2.90464945e+02  2.28255042e+02\n",
      "  2.22281502e+02  2.69246914e+02  1.84077992e+02  2.15740617e+02\n",
      "  1.82498923e+02  2.24205543e+02  1.18002363e+02  3.10860296e+02\n",
      "  2.57046027e+02  3.04976590e+02  2.79991113e+02  3.13575556e+02\n",
      "  1.45432966e+02  2.13893101e+02  1.44064033e+02  1.11545671e+02\n",
      "  1.39299853e+02  2.39305748e+02  2.02158007e+02  1.74422984e+02\n",
      "  1.77141324e+02  1.98891882e+02  2.24807880e+02  5.78921536e+01\n",
      "  1.79065521e+02  3.56162898e+02  2.23375341e+02  2.31429624e+02\n",
      "  2.66244955e+02  2.75855336e+02  1.93779249e+02  2.96703483e+02\n",
      "  2.24734617e+02  3.29671583e+02  4.17275100e+02  4.16250578e+02\n",
      "  6.08213037e+01  1.74200352e+02  2.54956886e+02  2.03781815e+02\n",
      "  4.23172878e+02  2.20508559e+02  2.01618665e+02  1.69234512e+02\n",
      "  1.57668367e+02  1.77591143e+02  4.24082182e+02  1.58455187e+02\n",
      "  2.17593057e+02  1.47594427e+02  2.15386675e+02  2.87260723e+02\n",
      "  1.94464418e+02  1.66614327e+02  1.17633475e+02  2.84612281e+02\n",
      "  2.34160741e+02  2.34475594e+02  1.37549924e+02 -3.64896211e+01\n",
      "  3.55459686e+02  2.72942358e+02  2.33491544e+02  2.24986006e+02\n",
      "  2.46782853e+02  1.57369126e+02  2.02340712e+02  1.22475990e+02\n",
      "  1.86812771e+02  2.89751650e+02  2.25147962e+02  1.96861308e+02\n",
      "  8.79514718e+02  1.90980705e+00  2.69472206e+02  1.65873271e+02\n",
      "  1.95826805e+02  2.63475914e+02  6.38760650e+02  1.69507097e+02\n",
      "  2.87976474e+02  1.52406115e+02  2.15859878e+02  1.94198035e+02\n",
      "  1.94113656e+02  1.04053230e+02  2.72005847e+02  1.66776569e+02\n",
      "  9.13194910e-02  2.80563856e+02  1.74950540e+02  2.13549780e+02\n",
      "  2.06061618e+02  1.51265394e+02  1.76946946e+02  2.78699545e+02\n",
      "  2.71430368e+02  2.24147328e+02  2.00638887e+02  5.89679999e+02\n",
      "  2.06651666e+02  2.87797616e+02  2.64587671e+02  2.63495567e+02\n",
      "  1.76259563e+02  1.68919865e+02  2.71317547e+02  7.35562402e+02\n",
      "  2.41701065e+02  1.48590445e+02  2.07392737e+02  2.41271953e+02\n",
      "  5.56853254e+01  1.90316616e+02  1.90266807e+02  2.18853968e+02\n",
      "  3.06118087e+02  6.61877109e+02  3.05405346e+02  2.58514477e+02\n",
      "  1.98016002e+02  4.07460515e+02  2.31487840e+02  2.42332562e+02\n",
      "  1.54518249e+02  1.66295844e+02  1.78332861e+02  2.44589269e+02\n",
      "  1.68728253e+02  1.59276215e+02  2.04756097e+02  2.72328056e+02\n",
      "  2.32779879e+02  1.66498895e+02  2.94197090e+02  1.82379699e+02\n",
      "  2.71741083e+02  3.08908358e+02  2.06774868e+02  2.90055215e+02\n",
      "  2.28042509e+02  1.01232018e+02  1.38955380e+02  1.88854770e+02\n",
      "  1.72981391e+02  2.25148456e+02  2.05308883e+02  1.36172793e+02\n",
      "  1.19442752e+02  6.44139853e+02  2.27665758e+02  1.53304966e+02\n",
      "  2.31643387e+02  3.24341458e+02  2.32323041e+02  3.39706166e+02\n",
      "  2.20002899e+02  1.91490129e+02  1.73183089e+02  1.38853630e+02\n",
      "  1.73969021e+02  1.41282368e+02  2.45230132e+02  1.23159965e+02\n",
      "  3.09402526e+02  1.73153368e+01  1.98234925e+02  2.64906701e+02\n",
      "  3.03585765e+02  2.24066516e+02  1.26579366e+02  1.92451231e+02\n",
      "  1.07487697e+02  3.25078049e+02  2.48926440e+02  3.28561746e+02\n",
      "  5.36434507e+01  3.18536633e+02  2.28916560e+02  1.32311272e+02\n",
      "  2.56043995e+02  2.03809966e+02  2.23908603e+02  1.99343500e+02\n",
      "  2.86509913e+02  1.66139318e+02]\n",
      "Loan Status Predicted:\n",
      "[1 1 1 1 1 1 1 1 1 1 1 1 1 1 1 1 1 1 1 1 1 1 0 1 1 1 1 1 1 1 1 1 1 1 1 1 1\n",
      " 1 1 1 1 1 1 1 1 1 1 1 1 1 1 1 1 1 1 1 1 1 1 1 1 1 1 1 1 1 1 1 1 1 1 1 1 1\n",
      " 1 1 1 1 1 1 1 1 1 1 1 1 1 1 1 1 1 1 1 1 1 1 1 1 1 1 1 1 1 1 1 1 1 1 1 1 1\n",
      " 1 1 1 1 1 1 1 1 1 1 1 1 1 1 1 0 1 1 1 1 1 1 1 1 1 1 1 1 1 1 1 1 1 1 1 1 1\n",
      " 1 1 1 0 1 1 1 1 1 1 1 1 1 1 1 1 1 1 1 1 1 1 1 1 1 1 1 1 1 1 1 1 1 1 1 1 1\n",
      " 1 1 1 1 1 1 1 1 1 1 1 1 1 1 1 1 1 1 1 1 0 1 1 1 1 1 1 1 1 1 1 1 1 1 1 1 1\n",
      " 1 1 1 1 1 1 1 1 1 1 1 1 1 1 1 1 1 1 1 1 1 1 1 1 1 1 1 1 1 1 1 1 1 1 1 1 1\n",
      " 1 1 1 1 1 1 1 1 1 1 1 1 1 1 1 1 1 1 1 1 1 1 1 1 1 1 1 1 1 1 1 1 1 1 1 1 1\n",
      " 1 1 1 1 1 1 1 1 1 1 1 1 1 1 1 1 1 1]\n"
     ]
    }
   ],
   "source": [
    "maxAmountPredicted = linear_reg_model.predict(X)\n",
    "print(\"Max Amount:\")\n",
    "print(maxAmountPredicted)\n",
    "loanPredicted = sigmoid(np.dot(X, theta))\n",
    "lpClass = np.where(loanPredicted >= 0.5, 1, 0)\n",
    "print(\"Loan Status Predicted:\")\n",
    "print(lpClass)"
   ]
  },
  {
   "cell_type": "code",
   "execution_count": null,
   "id": "1f0b9a28",
   "metadata": {},
   "outputs": [],
   "source": []
  },
  {
   "cell_type": "code",
   "execution_count": null,
   "id": "e49d0d1b",
   "metadata": {},
   "outputs": [],
   "source": []
  },
  {
   "cell_type": "code",
   "execution_count": null,
   "id": "8d690840",
   "metadata": {},
   "outputs": [],
   "source": [
    "\n"
   ]
  },
  {
   "cell_type": "code",
   "execution_count": null,
   "id": "75b16260",
   "metadata": {},
   "outputs": [],
   "source": []
  },
  {
   "cell_type": "code",
   "execution_count": null,
   "id": "1d98738c",
   "metadata": {},
   "outputs": [],
   "source": []
  }
 ],
 "metadata": {
  "colab": {
   "provenance": []
  },
  "kernelspec": {
   "display_name": "Python 3",
   "language": "python",
   "name": "python3"
  },
  "language_info": {
   "codemirror_mode": {
    "name": "ipython",
    "version": 3
   },
   "file_extension": ".py",
   "mimetype": "text/x-python",
   "name": "python",
   "nbconvert_exporter": "python",
   "pygments_lexer": "ipython3",
   "version": "3.9.11"
  }
 },
 "nbformat": 4,
 "nbformat_minor": 5
}
